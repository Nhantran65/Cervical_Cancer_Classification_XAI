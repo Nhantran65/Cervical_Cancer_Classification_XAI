{
 "cells": [
  {
   "cell_type": "code",
   "execution_count": null,
   "metadata": {},
   "outputs": [
    {
     "name": "stdout",
     "output_type": "stream",
     "text": [
      "2.5.1+cu121\n",
      "True\n",
      "12.1\n",
      "NVIDIA GeForce RTX 4060 Laptop GPU\n"
     ]
    }
   ],
   "source": [
    "import torch\n",
    "print(torch.__version__)  # Kiểm tra phiên bản PyTorch\n",
    "print(torch.cuda.is_available())  # Kiểm tra xem PyTorch có nhận GPU không\n",
    "print(torch.version.cuda)  # Kiểm tra phiên bản CUDA mà PyTorch đang sử dụng\n",
    "print(torch.cuda.get_device_name(0))  # Kiểm tra tên GPU\n"
   ]
  },
  {
   "cell_type": "code",
   "execution_count": 1,
   "metadata": {},
   "outputs": [],
   "source": [
    "import os\n",
    "import numpy as np\n",
    "import pandas as pd\n",
    "import matplotlib.pyplot as plt\n",
    "import cv2\n",
    "from PIL import Image\n",
    "import torch\n",
    "import torch.nn as nn\n",
    "import torch.optim as optim\n",
    "import torchvision.transforms as transforms\n",
    "import torchvision.models as models\n",
    "from torch.utils.data import DataLoader, Dataset\n",
    "from sklearn.model_selection import train_test_split\n",
    "from sklearn.metrics import classification_report, confusion_matrix\n",
    "from pytorch_grad_cam import GradCAM\n",
    "from pytorch_grad_cam.utils.model_targets import ClassifierOutputTarget\n",
    "from pytorch_grad_cam.utils.image import show_cam_on_image\n",
    "from tqdm import tqdm"
   ]
  },
  {
   "cell_type": "code",
   "execution_count": null,
   "metadata": {},
   "outputs": [],
   "source": [
    "# Set seeds for reproducibility\n",
    "torch.manual_seed(42)\n",
    "torch.cuda.manual_seed_all(42)\n",
    "np.random.seed(42)\n",
    "\n",
    "# Define dataset paths\n",
    "dataset_path = './Multi Cancer/Cervical Cancer'\n",
    "cervix_categories = ['cervix_dyk', 'cervix_koc', 'cervix_mep', 'cervix_pab', 'cervix_sfi']\n",
    "\n",
    "# Load dataset file paths and labels\n",
    "filepaths, labels = [], []\n",
    "for label, category in enumerate(cervix_categories):\n",
    "    category_path = os.path.join(dataset_path, category)\n",
    "    for file in os.listdir(category_path):\n",
    "        filepaths.append(os.path.join(category_path, file))\n",
    "        labels.append(label)\n",
    "\n",
    "# Convert to DataFrame\n",
    "df = pd.DataFrame({'filepath': filepaths, 'label': labels})\n",
    "\n",
    "# Split dataset into train, validation, and test sets\n",
    "train_df, temp_df = train_test_split(df, test_size=0.3, stratify=df['label'], random_state=42)\n",
    "valid_df, test_df = train_test_split(temp_df, test_size=0.5, stratify=temp_df['label'], random_state=42)\n",
    "\n",
    "# Define transformations\n",
    "transform = transforms.Compose([\n",
    "    transforms.Resize((224, 224)),\n",
    "    transforms.ToTensor(),\n",
    "    transforms.Normalize(mean=[0.485, 0.456, 0.406], std=[0.229, 0.224, 0.225])\n",
    "])\n"
   ]
  },
  {
   "cell_type": "code",
   "execution_count": 4,
   "metadata": {},
   "outputs": [
    {
     "name": "stderr",
     "output_type": "stream",
     "text": [
      "c:\\Anaconda\\envs\\py310\\lib\\site-packages\\torchvision\\models\\_utils.py:208: UserWarning: The parameter 'pretrained' is deprecated since 0.13 and may be removed in the future, please use 'weights' instead.\n",
      "  warnings.warn(\n",
      "c:\\Anaconda\\envs\\py310\\lib\\site-packages\\torchvision\\models\\_utils.py:223: UserWarning: Arguments other than a weight enum or `None` for 'weights' are deprecated since 0.13 and may be removed in the future. The current behavior is equivalent to passing `weights=ResNet101_Weights.IMAGENET1K_V1`. You can also use `weights=ResNet101_Weights.DEFAULT` to get the most up-to-date weights.\n",
      "  warnings.warn(msg)\n"
     ]
    }
   ],
   "source": [
    "# Custom dataset class\n",
    "class CervicalCancerDataset(Dataset):\n",
    "    def __init__(self, df, transform=None):\n",
    "        self.df = df\n",
    "        self.transform = transform\n",
    "    \n",
    "    def __len__(self):\n",
    "        return len(self.df)\n",
    "    \n",
    "    def __getitem__(self, idx):\n",
    "        img_path = self.df.iloc[idx]['filepath']\n",
    "        label = self.df.iloc[idx]['label']\n",
    "        image = cv2.imread(img_path)\n",
    "        image = cv2.cvtColor(image, cv2.COLOR_BGR2RGB)\n",
    "        image = Image.fromarray(image)  # Convert to PIL Image\n",
    "        if self.transform:\n",
    "            image = self.transform(image)\n",
    "        return image, label\n",
    "\n",
    "# Create data loaders\n",
    "batch_size = 32\n",
    "dataloaders = {\n",
    "    'train': DataLoader(CervicalCancerDataset(train_df, transform), batch_size=batch_size, shuffle=True),\n",
    "    'valid': DataLoader(CervicalCancerDataset(valid_df, transform), batch_size=batch_size, shuffle=False),\n",
    "    'test': DataLoader(CervicalCancerDataset(test_df, transform), batch_size=batch_size, shuffle=False)\n",
    "}\n",
    "\n",
    "# Define model\n",
    "class CervicalCancerModel(nn.Module):\n",
    "    def __init__(self):\n",
    "        super(CervicalCancerModel, self).__init__()\n",
    "        self.base_model = models.resnet101(pretrained=True)\n",
    "        for param in self.base_model.parameters():\n",
    "            param.requires_grad = False\n",
    "        self.base_model.fc = nn.Sequential(\n",
    "            nn.Linear(self.base_model.fc.in_features, 256),\n",
    "            nn.ReLU(),\n",
    "            nn.Dropout(0.3),\n",
    "            nn.Linear(256, len(cervix_categories))\n",
    "        )\n",
    "    \n",
    "    def forward(self, x):\n",
    "        return self.base_model(x)\n",
    "\n",
    "# Initialize model, loss, optimizer\n",
    "device = torch.device(\"cuda\" if torch.cuda.is_available() else \"cpu\")\n",
    "model = CervicalCancerModel().to(device)\n",
    "criterion = nn.CrossEntropyLoss()\n",
    "optimizer = optim.Adamax(model.parameters(), lr=0.001)"
   ]
  },
  {
   "cell_type": "code",
   "execution_count": 11,
   "metadata": {},
   "outputs": [
    {
     "name": "stderr",
     "output_type": "stream",
     "text": [
      "c:\\Anaconda\\envs\\py310\\lib\\site-packages\\torchvision\\models\\_utils.py:208: UserWarning: The parameter 'pretrained' is deprecated since 0.13 and may be removed in the future, please use 'weights' instead.\n",
      "  warnings.warn(\n",
      "c:\\Anaconda\\envs\\py310\\lib\\site-packages\\torchvision\\models\\_utils.py:223: UserWarning: Arguments other than a weight enum or `None` for 'weights' are deprecated since 0.13 and may be removed in the future. The current behavior is equivalent to passing `weights=MobileNet_V3_Large_Weights.IMAGENET1K_V1`. You can also use `weights=MobileNet_V3_Large_Weights.DEFAULT` to get the most up-to-date weights.\n",
      "  warnings.warn(msg)\n"
     ]
    }
   ],
   "source": [
    "# Define model\n",
    "class CervicalCancerModel(nn.Module):\n",
    "    def __init__(self):\n",
    "        super(CervicalCancerModel, self).__init__()\n",
    "        self.base_model = models.mobilenet_v3_large(pretrained=True)\n",
    "        \n",
    "        # Freeze the parameters of the base model\n",
    "        for param in self.base_model.parameters():\n",
    "            param.requires_grad = False\n",
    "        \n",
    "        # The number of output features from the last layer of the base model\n",
    "        num_features = 960  # This should match the output of the last layer of MobileNetV3 large\n",
    "        \n",
    "        # Redefine the classifier\n",
    "        self.base_model.classifier = nn.Sequential(\n",
    "            nn.Linear(num_features, 256),\n",
    "            nn.ReLU(),\n",
    "            nn.Dropout(0.3),\n",
    "            nn.Linear(256, len(cervix_categories))\n",
    "        )\n",
    "\n",
    "    def forward(self, x):\n",
    "        return self.base_model(x)\n",
    "\n",
    "\n",
    "# Assuming cervix_categories is defined somewhere in your code\n",
    "# If not, you'll need to define it like:\n",
    "# cervix_categories = ['category1', 'category2', ...] \n",
    "\n",
    "# Initialize model, loss, optimizer\n",
    "device = torch.device(\"cuda\" if torch.cuda.is_available() else \"cpu\")\n",
    "model = CervicalCancerModel().to(device)\n",
    "criterion = nn.CrossEntropyLoss()\n",
    "optimizer = optim.Adamax(model.parameters(), lr=0.001)"
   ]
  },
  {
   "cell_type": "code",
   "execution_count": 9,
   "metadata": {},
   "outputs": [
    {
     "name": "stdout",
     "output_type": "stream",
     "text": [
      "\n",
      "Epoch 1/10\n"
     ]
    },
    {
     "name": "stderr",
     "output_type": "stream",
     "text": [
      "TRAIN Epoch 1/10: 100%|██████████| 547/547 [04:50<00:00,  1.88it/s, accuracy=tensor(0.8654, device='cuda:0', dtype=torch.float64), loss=0.409]\n"
     ]
    },
    {
     "name": "stdout",
     "output_type": "stream",
     "text": [
      "TRAIN Loss: 0.4091 Acc: 0.8654\n"
     ]
    },
    {
     "name": "stderr",
     "output_type": "stream",
     "text": [
      "VALID Epoch 1/10: 100%|██████████| 118/118 [01:17<00:00,  1.52it/s, accuracy=tensor(0.9411, device='cuda:0', dtype=torch.float64), loss=0.181]\n"
     ]
    },
    {
     "name": "stdout",
     "output_type": "stream",
     "text": [
      "VALID Loss: 0.1814 Acc: 0.9411\n",
      "\n",
      "Epoch 2/10\n"
     ]
    },
    {
     "name": "stderr",
     "output_type": "stream",
     "text": [
      "TRAIN Epoch 2/10: 100%|██████████| 547/547 [02:34<00:00,  3.54it/s, accuracy=tensor(0.9356, device='cuda:0', dtype=torch.float64), loss=0.195]\n"
     ]
    },
    {
     "name": "stdout",
     "output_type": "stream",
     "text": [
      "TRAIN Loss: 0.1946 Acc: 0.9356\n"
     ]
    },
    {
     "name": "stderr",
     "output_type": "stream",
     "text": [
      "VALID Epoch 2/10: 100%|██████████| 118/118 [00:33<00:00,  3.48it/s, accuracy=tensor(0.9704, device='cuda:0', dtype=torch.float64), loss=0.108]\n"
     ]
    },
    {
     "name": "stdout",
     "output_type": "stream",
     "text": [
      "VALID Loss: 0.1082 Acc: 0.9704\n",
      "\n",
      "Epoch 3/10\n"
     ]
    },
    {
     "name": "stderr",
     "output_type": "stream",
     "text": [
      "TRAIN Epoch 3/10: 100%|██████████| 547/547 [02:27<00:00,  3.71it/s, accuracy=tensor(0.9593, device='cuda:0', dtype=torch.float64), loss=0.129]\n"
     ]
    },
    {
     "name": "stdout",
     "output_type": "stream",
     "text": [
      "TRAIN Loss: 0.1291 Acc: 0.9593\n"
     ]
    },
    {
     "name": "stderr",
     "output_type": "stream",
     "text": [
      "VALID Epoch 3/10: 100%|██████████| 118/118 [00:32<00:00,  3.65it/s, accuracy=tensor(0.9835, device='cuda:0', dtype=torch.float64), loss=0.0701]\n"
     ]
    },
    {
     "name": "stdout",
     "output_type": "stream",
     "text": [
      "VALID Loss: 0.0701 Acc: 0.9835\n",
      "\n",
      "Epoch 4/10\n"
     ]
    },
    {
     "name": "stderr",
     "output_type": "stream",
     "text": [
      "TRAIN Epoch 4/10: 100%|██████████| 547/547 [02:28<00:00,  3.69it/s, accuracy=tensor(0.9686, device='cuda:0', dtype=torch.float64), loss=0.101] \n"
     ]
    },
    {
     "name": "stdout",
     "output_type": "stream",
     "text": [
      "TRAIN Loss: 0.1013 Acc: 0.9686\n"
     ]
    },
    {
     "name": "stderr",
     "output_type": "stream",
     "text": [
      "VALID Epoch 4/10: 100%|██████████| 118/118 [00:31<00:00,  3.72it/s, accuracy=tensor(0.9867, device='cuda:0', dtype=torch.float64), loss=0.051] \n"
     ]
    },
    {
     "name": "stdout",
     "output_type": "stream",
     "text": [
      "VALID Loss: 0.0510 Acc: 0.9867\n",
      "\n",
      "Epoch 5/10\n"
     ]
    },
    {
     "name": "stderr",
     "output_type": "stream",
     "text": [
      "TRAIN Epoch 5/10: 100%|██████████| 547/547 [02:24<00:00,  3.78it/s, accuracy=tensor(0.9751, device='cuda:0', dtype=torch.float64), loss=0.0803]\n"
     ]
    },
    {
     "name": "stdout",
     "output_type": "stream",
     "text": [
      "TRAIN Loss: 0.0803 Acc: 0.9751\n"
     ]
    },
    {
     "name": "stderr",
     "output_type": "stream",
     "text": [
      "VALID Epoch 5/10: 100%|██████████| 118/118 [00:30<00:00,  3.86it/s, accuracy=tensor(0.9909, device='cuda:0', dtype=torch.float64), loss=0.0413]\n"
     ]
    },
    {
     "name": "stdout",
     "output_type": "stream",
     "text": [
      "VALID Loss: 0.0413 Acc: 0.9909\n",
      "\n",
      "Epoch 6/10\n"
     ]
    },
    {
     "name": "stderr",
     "output_type": "stream",
     "text": [
      "TRAIN Epoch 6/10: 100%|██████████| 547/547 [02:18<00:00,  3.96it/s, accuracy=tensor(0.9801, device='cuda:0', dtype=torch.float64), loss=0.0659]\n"
     ]
    },
    {
     "name": "stdout",
     "output_type": "stream",
     "text": [
      "TRAIN Loss: 0.0659 Acc: 0.9801\n"
     ]
    },
    {
     "name": "stderr",
     "output_type": "stream",
     "text": [
      "VALID Epoch 6/10: 100%|██████████| 118/118 [00:29<00:00,  3.94it/s, accuracy=tensor(0.9931, device='cuda:0', dtype=torch.float64), loss=0.0293]\n"
     ]
    },
    {
     "name": "stdout",
     "output_type": "stream",
     "text": [
      "VALID Loss: 0.0293 Acc: 0.9931\n",
      "\n",
      "Epoch 7/10\n"
     ]
    },
    {
     "name": "stderr",
     "output_type": "stream",
     "text": [
      "TRAIN Epoch 7/10: 100%|██████████| 547/547 [02:16<00:00,  4.01it/s, accuracy=tensor(0.9818, device='cuda:0', dtype=torch.float64), loss=0.0577]\n"
     ]
    },
    {
     "name": "stdout",
     "output_type": "stream",
     "text": [
      "TRAIN Loss: 0.0577 Acc: 0.9818\n"
     ]
    },
    {
     "name": "stderr",
     "output_type": "stream",
     "text": [
      "VALID Epoch 7/10: 100%|██████████| 118/118 [00:31<00:00,  3.75it/s, accuracy=tensor(0.9917, device='cuda:0', dtype=torch.float64), loss=0.03]  \n"
     ]
    },
    {
     "name": "stdout",
     "output_type": "stream",
     "text": [
      "VALID Loss: 0.0300 Acc: 0.9917\n",
      "\n",
      "Epoch 8/10\n"
     ]
    },
    {
     "name": "stderr",
     "output_type": "stream",
     "text": [
      "TRAIN Epoch 8/10: 100%|██████████| 547/547 [02:30<00:00,  3.62it/s, accuracy=tensor(0.9846, device='cuda:0', dtype=torch.float64), loss=0.051] \n"
     ]
    },
    {
     "name": "stdout",
     "output_type": "stream",
     "text": [
      "TRAIN Loss: 0.0510 Acc: 0.9846\n"
     ]
    },
    {
     "name": "stderr",
     "output_type": "stream",
     "text": [
      "VALID Epoch 8/10: 100%|██████████| 118/118 [00:38<00:00,  3.03it/s, accuracy=tensor(0.9963, device='cuda:0', dtype=torch.float64), loss=0.0197]\n"
     ]
    },
    {
     "name": "stdout",
     "output_type": "stream",
     "text": [
      "VALID Loss: 0.0197 Acc: 0.9963\n",
      "\n",
      "Epoch 9/10\n"
     ]
    },
    {
     "name": "stderr",
     "output_type": "stream",
     "text": [
      "TRAIN Epoch 9/10: 100%|██████████| 547/547 [02:28<00:00,  3.68it/s, accuracy=tensor(0.9870, device='cuda:0', dtype=torch.float64), loss=0.0433]\n"
     ]
    },
    {
     "name": "stdout",
     "output_type": "stream",
     "text": [
      "TRAIN Loss: 0.0433 Acc: 0.9870\n"
     ]
    },
    {
     "name": "stderr",
     "output_type": "stream",
     "text": [
      "VALID Epoch 9/10: 100%|██████████| 118/118 [00:31<00:00,  3.78it/s, accuracy=tensor(0.9963, device='cuda:0', dtype=torch.float64), loss=0.0169]\n"
     ]
    },
    {
     "name": "stdout",
     "output_type": "stream",
     "text": [
      "VALID Loss: 0.0169 Acc: 0.9963\n",
      "\n",
      "Epoch 10/10\n"
     ]
    },
    {
     "name": "stderr",
     "output_type": "stream",
     "text": [
      "TRAIN Epoch 10/10: 100%|██████████| 547/547 [02:15<00:00,  4.04it/s, accuracy=tensor(0.9887, device='cuda:0', dtype=torch.float64), loss=0.038] \n"
     ]
    },
    {
     "name": "stdout",
     "output_type": "stream",
     "text": [
      "TRAIN Loss: 0.0380 Acc: 0.9887\n"
     ]
    },
    {
     "name": "stderr",
     "output_type": "stream",
     "text": [
      "VALID Epoch 10/10: 100%|██████████| 118/118 [00:29<00:00,  4.05it/s, accuracy=tensor(0.9955, device='cuda:0', dtype=torch.float64), loss=0.0172]\n"
     ]
    },
    {
     "name": "stdout",
     "output_type": "stream",
     "text": [
      "VALID Loss: 0.0172 Acc: 0.9955\n"
     ]
    }
   ],
   "source": [
    "\n",
    "# Training function\n",
    "def train_model(model, dataloaders, criterion, optimizer, num_epochs=10):\n",
    "    for epoch in range(num_epochs):\n",
    "        print(f'\\nEpoch {epoch+1}/{num_epochs}')\n",
    "        for phase in ['train', 'valid']:\n",
    "            if phase == 'train':\n",
    "                model.train()\n",
    "            else:\n",
    "                model.eval()\n",
    "            \n",
    "            running_loss = 0.0\n",
    "            correct = 0\n",
    "            total = 0\n",
    "            \n",
    "            loop = tqdm(dataloaders[phase], desc=f'{phase.upper()} Epoch {epoch+1}/{num_epochs}', leave=True)\n",
    "            for inputs, labels in loop:\n",
    "                inputs, labels = inputs.to(device), labels.to(device)\n",
    "                optimizer.zero_grad()\n",
    "                \n",
    "                with torch.set_grad_enabled(phase == 'train'):\n",
    "                    outputs = model(inputs)\n",
    "                    loss = criterion(outputs, labels)\n",
    "                    _, preds = torch.max(outputs, 1)\n",
    "                    if phase == 'train':\n",
    "                        loss.backward()\n",
    "                        optimizer.step()\n",
    "                \n",
    "                running_loss += loss.item() * inputs.size(0)\n",
    "                correct += torch.sum(preds == labels.data)\n",
    "                total += labels.size(0)\n",
    "                \n",
    "                loop.set_postfix(loss=running_loss/total, accuracy=correct.double()/total)\n",
    "            \n",
    "            epoch_loss = running_loss / total\n",
    "            epoch_acc = correct.double() / total\n",
    "            print(f'{phase.upper()} Loss: {epoch_loss:.4f} Acc: {epoch_acc:.4f}')\n",
    "\n",
    "train_model(model, dataloaders, criterion, optimizer)\n",
    "\n",
    "# Save model\n",
    "torch.save(model.state_dict(), \"cervical_cancer_model.pth\")"
   ]
  },
  {
   "cell_type": "code",
   "execution_count": null,
   "metadata": {},
   "outputs": [],
   "source": [
    "# Define model\n",
    "\n",
    "# Define model\n",
    "class CervicalCancerModel(nn.Module):\n",
    "    def __init__(self):\n",
    "        super(CervicalCancerModel, self).__init__()\n",
    "        # Use a specific pre-trained Vision Transformer\n",
    "        self.base_model = models.vit_b_16(pretrained=True)\n",
    "        \n",
    "        # Freeze base model parameters\n",
    "        for param in self.base_model.parameters():\n",
    "            param.requires_grad = False\n",
    "        \n",
    "        # Get the correct number of input features for heads\n",
    "        num_features = 768  # 768 for vit_b_16\n",
    "        \n",
    "        # Replace heads with a new trainable classifier\n",
    "        self.base_model.heads = nn.Sequential(\n",
    "            nn.Linear(num_features, 256),\n",
    "            nn.ReLU(),\n",
    "            nn.Dropout(0.3),\n",
    "            nn.Linear(256, len(cervix_categories))\n",
    "        )\n",
    "    \n",
    "    def forward(self, x):\n",
    "        return self.base_model(x)\n",
    "\n",
    "# Initialize model, loss, optimizer\n",
    "device = torch.device(\"cuda\" if torch.cuda.is_available() else \"cpu\")\n",
    "model = CervicalCancerModel().to(device)\n",
    "criterion = nn.CrossEntropyLoss()\n",
    "optimizer = optim.Adamax(model.parameters(), lr=0.001)"
   ]
  },
  {
   "cell_type": "code",
   "execution_count": 23,
   "metadata": {},
   "outputs": [
    {
     "name": "stdout",
     "output_type": "stream",
     "text": [
      "\n",
      "Epoch 1/10\n"
     ]
    },
    {
     "name": "stderr",
     "output_type": "stream",
     "text": [
      "TRAIN Epoch 1/10:   0%|          | 0/547 [00:00<?, ?it/s]"
     ]
    },
    {
     "name": "stderr",
     "output_type": "stream",
     "text": [
      "TRAIN Epoch 1/10: 100%|██████████| 547/547 [10:34<00:00,  1.16s/it, accuracy=tensor(0.9151, device='cuda:0', dtype=torch.float64), loss=0.262]\n"
     ]
    },
    {
     "name": "stdout",
     "output_type": "stream",
     "text": [
      "TRAIN Loss: 0.2624 Acc: 0.9151\n"
     ]
    },
    {
     "name": "stderr",
     "output_type": "stream",
     "text": [
      "VALID Epoch 1/10: 100%|██████████| 118/118 [01:58<00:00,  1.01s/it, accuracy=tensor(0.9667, device='cuda:0', dtype=torch.float64), loss=0.114]\n"
     ]
    },
    {
     "name": "stdout",
     "output_type": "stream",
     "text": [
      "VALID Loss: 0.1136 Acc: 0.9667\n",
      "\n",
      "Epoch 2/10\n"
     ]
    },
    {
     "name": "stderr",
     "output_type": "stream",
     "text": [
      "TRAIN Epoch 2/10: 100%|██████████| 547/547 [10:26<00:00,  1.15s/it, accuracy=tensor(0.9747, device='cuda:0', dtype=torch.float64), loss=0.0877]\n"
     ]
    },
    {
     "name": "stdout",
     "output_type": "stream",
     "text": [
      "TRAIN Loss: 0.0877 Acc: 0.9747\n"
     ]
    },
    {
     "name": "stderr",
     "output_type": "stream",
     "text": [
      "VALID Epoch 2/10: 100%|██████████| 118/118 [01:56<00:00,  1.01it/s, accuracy=tensor(0.9819, device='cuda:0', dtype=torch.float64), loss=0.0634]\n"
     ]
    },
    {
     "name": "stdout",
     "output_type": "stream",
     "text": [
      "VALID Loss: 0.0634 Acc: 0.9819\n",
      "\n",
      "Epoch 3/10\n"
     ]
    },
    {
     "name": "stderr",
     "output_type": "stream",
     "text": [
      "TRAIN Epoch 3/10: 100%|██████████| 547/547 [10:46<00:00,  1.18s/it, accuracy=tensor(0.9867, device='cuda:0', dtype=torch.float64), loss=0.049] \n"
     ]
    },
    {
     "name": "stdout",
     "output_type": "stream",
     "text": [
      "TRAIN Loss: 0.0490 Acc: 0.9867\n"
     ]
    },
    {
     "name": "stderr",
     "output_type": "stream",
     "text": [
      "VALID Epoch 3/10: 100%|██████████| 118/118 [02:00<00:00,  1.02s/it, accuracy=tensor(0.9848, device='cuda:0', dtype=torch.float64), loss=0.0503]\n"
     ]
    },
    {
     "name": "stdout",
     "output_type": "stream",
     "text": [
      "VALID Loss: 0.0503 Acc: 0.9848\n",
      "\n",
      "Epoch 4/10\n"
     ]
    },
    {
     "name": "stderr",
     "output_type": "stream",
     "text": [
      "TRAIN Epoch 4/10: 100%|██████████| 547/547 [10:42<00:00,  1.17s/it, accuracy=tensor(0.9933, device='cuda:0', dtype=torch.float64), loss=0.0296]\n"
     ]
    },
    {
     "name": "stdout",
     "output_type": "stream",
     "text": [
      "TRAIN Loss: 0.0296 Acc: 0.9933\n"
     ]
    },
    {
     "name": "stderr",
     "output_type": "stream",
     "text": [
      "VALID Epoch 4/10: 100%|██████████| 118/118 [01:56<00:00,  1.02it/s, accuracy=tensor(0.9947, device='cuda:0', dtype=torch.float64), loss=0.0251]\n"
     ]
    },
    {
     "name": "stdout",
     "output_type": "stream",
     "text": [
      "VALID Loss: 0.0251 Acc: 0.9947\n",
      "\n",
      "Epoch 5/10\n"
     ]
    },
    {
     "name": "stderr",
     "output_type": "stream",
     "text": [
      "TRAIN Epoch 5/10: 100%|██████████| 547/547 [10:42<00:00,  1.18s/it, accuracy=tensor(0.9955, device='cuda:0', dtype=torch.float64), loss=0.0208]\n"
     ]
    },
    {
     "name": "stdout",
     "output_type": "stream",
     "text": [
      "TRAIN Loss: 0.0208 Acc: 0.9955\n"
     ]
    },
    {
     "name": "stderr",
     "output_type": "stream",
     "text": [
      "VALID Epoch 5/10: 100%|██████████| 118/118 [02:01<00:00,  1.03s/it, accuracy=tensor(0.9952, device='cuda:0', dtype=torch.float64), loss=0.0211]\n"
     ]
    },
    {
     "name": "stdout",
     "output_type": "stream",
     "text": [
      "VALID Loss: 0.0211 Acc: 0.9952\n",
      "\n",
      "Epoch 6/10\n"
     ]
    },
    {
     "name": "stderr",
     "output_type": "stream",
     "text": [
      "TRAIN Epoch 6/10: 100%|██████████| 547/547 [10:42<00:00,  1.18s/it, accuracy=tensor(0.9970, device='cuda:0', dtype=torch.float64), loss=0.0159]\n"
     ]
    },
    {
     "name": "stdout",
     "output_type": "stream",
     "text": [
      "TRAIN Loss: 0.0159 Acc: 0.9970\n"
     ]
    },
    {
     "name": "stderr",
     "output_type": "stream",
     "text": [
      "VALID Epoch 6/10: 100%|██████████| 118/118 [02:00<00:00,  1.02s/it, accuracy=tensor(0.9965, device='cuda:0', dtype=torch.float64), loss=0.0164]\n"
     ]
    },
    {
     "name": "stdout",
     "output_type": "stream",
     "text": [
      "VALID Loss: 0.0164 Acc: 0.9965\n",
      "\n",
      "Epoch 7/10\n"
     ]
    },
    {
     "name": "stderr",
     "output_type": "stream",
     "text": [
      "TRAIN Epoch 7/10: 100%|██████████| 547/547 [11:03<00:00,  1.21s/it, accuracy=tensor(0.9987, device='cuda:0', dtype=torch.float64), loss=0.0107]\n"
     ]
    },
    {
     "name": "stdout",
     "output_type": "stream",
     "text": [
      "TRAIN Loss: 0.0107 Acc: 0.9987\n"
     ]
    },
    {
     "name": "stderr",
     "output_type": "stream",
     "text": [
      "VALID Epoch 7/10: 100%|██████████| 118/118 [01:58<00:00,  1.00s/it, accuracy=tensor(0.9965, device='cuda:0', dtype=torch.float64), loss=0.0141]\n"
     ]
    },
    {
     "name": "stdout",
     "output_type": "stream",
     "text": [
      "VALID Loss: 0.0141 Acc: 0.9965\n",
      "\n",
      "Epoch 8/10\n"
     ]
    },
    {
     "name": "stderr",
     "output_type": "stream",
     "text": [
      "TRAIN Epoch 8/10: 100%|██████████| 547/547 [10:45<00:00,  1.18s/it, accuracy=tensor(0.9985, device='cuda:0', dtype=torch.float64), loss=0.00886]\n"
     ]
    },
    {
     "name": "stdout",
     "output_type": "stream",
     "text": [
      "TRAIN Loss: 0.0089 Acc: 0.9985\n"
     ]
    },
    {
     "name": "stderr",
     "output_type": "stream",
     "text": [
      "VALID Epoch 8/10: 100%|██████████| 118/118 [01:59<00:00,  1.01s/it, accuracy=tensor(0.9968, device='cuda:0', dtype=torch.float64), loss=0.0115]\n"
     ]
    },
    {
     "name": "stdout",
     "output_type": "stream",
     "text": [
      "VALID Loss: 0.0115 Acc: 0.9968\n",
      "\n",
      "Epoch 9/10\n"
     ]
    },
    {
     "name": "stderr",
     "output_type": "stream",
     "text": [
      "TRAIN Epoch 9/10: 100%|██████████| 547/547 [10:33<00:00,  1.16s/it, accuracy=tensor(0.9993, device='cuda:0', dtype=torch.float64), loss=0.00672]\n"
     ]
    },
    {
     "name": "stdout",
     "output_type": "stream",
     "text": [
      "TRAIN Loss: 0.0067 Acc: 0.9993\n"
     ]
    },
    {
     "name": "stderr",
     "output_type": "stream",
     "text": [
      "VALID Epoch 9/10: 100%|██████████| 118/118 [05:02<00:00,  2.57s/it, accuracy=tensor(0.9976, device='cuda:0', dtype=torch.float64), loss=0.0111]\n"
     ]
    },
    {
     "name": "stdout",
     "output_type": "stream",
     "text": [
      "VALID Loss: 0.0111 Acc: 0.9976\n",
      "\n",
      "Epoch 10/10\n"
     ]
    },
    {
     "name": "stderr",
     "output_type": "stream",
     "text": [
      "TRAIN Epoch 10/10: 100%|██████████| 547/547 [14:33<00:00,  1.60s/it, accuracy=tensor(0.9994, device='cuda:0', dtype=torch.float64), loss=0.00537]  \n"
     ]
    },
    {
     "name": "stdout",
     "output_type": "stream",
     "text": [
      "TRAIN Loss: 0.0054 Acc: 0.9994\n"
     ]
    },
    {
     "name": "stderr",
     "output_type": "stream",
     "text": [
      "VALID Epoch 10/10: 100%|██████████| 118/118 [01:56<00:00,  1.01it/s, accuracy=tensor(0.9979, device='cuda:0', dtype=torch.float64), loss=0.0096] \n"
     ]
    },
    {
     "name": "stdout",
     "output_type": "stream",
     "text": [
      "VALID Loss: 0.0096 Acc: 0.9979\n"
     ]
    }
   ],
   "source": [
    "# Training function\n",
    "def train_model(model, dataloaders, criterion, optimizer, num_epochs=10):\n",
    "    for epoch in range(num_epochs):\n",
    "        print(f'\\nEpoch {epoch+1}/{num_epochs}')\n",
    "        for phase in ['train', 'valid']:\n",
    "            if phase == 'train':\n",
    "                model.train()\n",
    "            else:\n",
    "                model.eval()\n",
    "            \n",
    "            running_loss = 0.0\n",
    "            correct = 0\n",
    "            total = 0\n",
    "            \n",
    "            loop = tqdm(dataloaders[phase], desc=f'{phase.upper()} Epoch {epoch+1}/{num_epochs}', leave=True)\n",
    "            for inputs, labels in loop:\n",
    "                inputs, labels = inputs.to(device), labels.to(device)\n",
    "                optimizer.zero_grad()\n",
    "                \n",
    "                with torch.set_grad_enabled(phase == 'train'):\n",
    "                    outputs = model(inputs)\n",
    "                    loss = criterion(outputs, labels)\n",
    "                    _, preds = torch.max(outputs, 1)\n",
    "                    if phase == 'train':\n",
    "                        loss.backward()\n",
    "                        optimizer.step()\n",
    "                \n",
    "                running_loss += loss.item() * inputs.size(0)\n",
    "                correct += torch.sum(preds == labels.data)\n",
    "                total += labels.size(0)\n",
    "                \n",
    "                loop.set_postfix(loss=running_loss/total, accuracy=correct.double()/total)\n",
    "            \n",
    "            epoch_loss = running_loss / total\n",
    "            epoch_acc = correct.double() / total\n",
    "            print(f'{phase.upper()} Loss: {epoch_loss:.4f} Acc: {epoch_acc:.4f}')\n",
    "\n",
    "train_model(model, dataloaders, criterion, optimizer)\n",
    "\n",
    "# Save model\n",
    "torch.save(model.state_dict(), \"cervical_cancer_model_Vision_Transformer.pth\")"
   ]
  },
  {
   "cell_type": "code",
   "execution_count": null,
   "metadata": {},
   "outputs": [
    {
     "name": "stderr",
     "output_type": "stream",
     "text": [
      "c:\\Anaconda\\envs\\py310\\lib\\site-packages\\torchvision\\models\\_utils.py:208: UserWarning: The parameter 'pretrained' is deprecated since 0.13 and may be removed in the future, please use 'weights' instead.\n",
      "  warnings.warn(\n",
      "c:\\Anaconda\\envs\\py310\\lib\\site-packages\\torchvision\\models\\_utils.py:223: UserWarning: Arguments other than a weight enum or `None` for 'weights' are deprecated since 0.13 and may be removed in the future. The current behavior is equivalent to passing `weights=EfficientNet_V2_M_Weights.IMAGENET1K_V1`. You can also use `weights=EfficientNet_V2_M_Weights.DEFAULT` to get the most up-to-date weights.\n",
      "  warnings.warn(msg)\n",
      "Downloading: \"https://download.pytorch.org/models/efficientnet_v2_m-dc08266a.pth\" to C:\\Users\\Nguyen Ngo/.cache\\torch\\hub\\checkpoints\\efficientnet_v2_m-dc08266a.pth\n",
      "100%|██████████| 208M/208M [00:03<00:00, 68.0MB/s] \n"
     ]
    }
   ],
   "source": [
    "# Define model\n",
    "class CervicalCancerModel(nn.Module):\n",
    "    def __init__(self):\n",
    "        super(CervicalCancerModel, self).__init__()\n",
    "        self.base_model = models.efficientnet_v2_s(pretrained=True)\n",
    "        # Freeze the base model parameters\n",
    "        for param in self.base_model.parameters():\n",
    "            param.requires_grad = False\n",
    "        # Get the number of input features from the classifier's linear layer\n",
    "        num_features = self.base_model.classifier[1].in_features\n",
    "        # Replace the classifier with a custom sequential module\n",
    "        self.base_model.classifier = nn.Sequential(\n",
    "            nn.Linear(num_features, 256),\n",
    "            nn.ReLU(),\n",
    "            nn.Dropout(0.3),\n",
    "            nn.Linear(256, len(cervix_categories))\n",
    "        )\n",
    "    \n",
    "    def forward(self, x):\n",
    "        return self.base_model(x)\n",
    "\n",
    "# Initialize model, loss, optimizer\n",
    "device = torch.device(\"cuda\" if torch.cuda.is_available() else \"cpu\")\n",
    "model = CervicalCancerModel().to(device)\n",
    "criterion = nn.CrossEntropyLoss()\n",
    "optimizer = optim.Adamax(model.parameters(), lr=0.001)"
   ]
  },
  {
   "cell_type": "code",
   "execution_count": 28,
   "metadata": {},
   "outputs": [
    {
     "name": "stdout",
     "output_type": "stream",
     "text": [
      "\n",
      "Epoch 1/10\n"
     ]
    },
    {
     "name": "stderr",
     "output_type": "stream",
     "text": [
      "TRAIN Epoch 1/10: 100%|██████████| 547/547 [04:07<00:00,  2.21it/s, accuracy=tensor(0.7571, device='cuda:0', dtype=torch.float64), loss=0.701]\n"
     ]
    },
    {
     "name": "stdout",
     "output_type": "stream",
     "text": [
      "TRAIN Loss: 0.7009 Acc: 0.7571\n"
     ]
    },
    {
     "name": "stderr",
     "output_type": "stream",
     "text": [
      "VALID Epoch 1/10: 100%|██████████| 118/118 [00:51<00:00,  2.30it/s, accuracy=tensor(0.8448, device='cuda:0', dtype=torch.float64), loss=0.445]\n"
     ]
    },
    {
     "name": "stdout",
     "output_type": "stream",
     "text": [
      "VALID Loss: 0.4449 Acc: 0.8448\n",
      "\n",
      "Epoch 2/10\n"
     ]
    },
    {
     "name": "stderr",
     "output_type": "stream",
     "text": [
      "TRAIN Epoch 2/10: 100%|██████████| 547/547 [11:23<00:00,  1.25s/it, accuracy=tensor(0.8294, device='cuda:0', dtype=torch.float64), loss=0.475]   \n"
     ]
    },
    {
     "name": "stdout",
     "output_type": "stream",
     "text": [
      "TRAIN Loss: 0.4755 Acc: 0.8294\n"
     ]
    },
    {
     "name": "stderr",
     "output_type": "stream",
     "text": [
      "VALID Epoch 2/10: 100%|██████████| 118/118 [00:56<00:00,  2.08it/s, accuracy=tensor(0.8680, device='cuda:0', dtype=torch.float64), loss=0.36] \n"
     ]
    },
    {
     "name": "stdout",
     "output_type": "stream",
     "text": [
      "VALID Loss: 0.3603 Acc: 0.8680\n",
      "\n",
      "Epoch 3/10\n"
     ]
    },
    {
     "name": "stderr",
     "output_type": "stream",
     "text": [
      "TRAIN Epoch 3/10: 100%|██████████| 547/547 [04:20<00:00,  2.10it/s, accuracy=tensor(0.8410, device='cuda:0', dtype=torch.float64), loss=0.433]\n"
     ]
    },
    {
     "name": "stdout",
     "output_type": "stream",
     "text": [
      "TRAIN Loss: 0.4333 Acc: 0.8410\n"
     ]
    },
    {
     "name": "stderr",
     "output_type": "stream",
     "text": [
      "VALID Epoch 3/10: 100%|██████████| 118/118 [00:54<00:00,  2.18it/s, accuracy=tensor(0.8805, device='cuda:0', dtype=torch.float64), loss=0.331]\n"
     ]
    },
    {
     "name": "stdout",
     "output_type": "stream",
     "text": [
      "VALID Loss: 0.3306 Acc: 0.8805\n",
      "\n",
      "Epoch 4/10\n"
     ]
    },
    {
     "name": "stderr",
     "output_type": "stream",
     "text": [
      "TRAIN Epoch 4/10: 100%|██████████| 547/547 [04:18<00:00,  2.12it/s, accuracy=tensor(0.8614, device='cuda:0', dtype=torch.float64), loss=0.392]\n"
     ]
    },
    {
     "name": "stdout",
     "output_type": "stream",
     "text": [
      "TRAIN Loss: 0.3920 Acc: 0.8614\n"
     ]
    },
    {
     "name": "stderr",
     "output_type": "stream",
     "text": [
      "VALID Epoch 4/10: 100%|██████████| 118/118 [00:53<00:00,  2.19it/s, accuracy=tensor(0.8952, device='cuda:0', dtype=torch.float64), loss=0.281]\n"
     ]
    },
    {
     "name": "stdout",
     "output_type": "stream",
     "text": [
      "VALID Loss: 0.2809 Acc: 0.8952\n",
      "\n",
      "Epoch 5/10\n"
     ]
    },
    {
     "name": "stderr",
     "output_type": "stream",
     "text": [
      "TRAIN Epoch 5/10: 100%|██████████| 547/547 [04:16<00:00,  2.14it/s, accuracy=tensor(0.8645, device='cuda:0', dtype=torch.float64), loss=0.371]\n"
     ]
    },
    {
     "name": "stdout",
     "output_type": "stream",
     "text": [
      "TRAIN Loss: 0.3709 Acc: 0.8645\n"
     ]
    },
    {
     "name": "stderr",
     "output_type": "stream",
     "text": [
      "VALID Epoch 5/10: 100%|██████████| 118/118 [00:54<00:00,  2.15it/s, accuracy=tensor(0.9112, device='cuda:0', dtype=torch.float64), loss=0.26] \n"
     ]
    },
    {
     "name": "stdout",
     "output_type": "stream",
     "text": [
      "VALID Loss: 0.2595 Acc: 0.9112\n",
      "\n",
      "Epoch 6/10\n"
     ]
    },
    {
     "name": "stderr",
     "output_type": "stream",
     "text": [
      "TRAIN Epoch 6/10: 100%|██████████| 547/547 [04:18<00:00,  2.11it/s, accuracy=tensor(0.8758, device='cuda:0', dtype=torch.float64), loss=0.338]\n"
     ]
    },
    {
     "name": "stdout",
     "output_type": "stream",
     "text": [
      "TRAIN Loss: 0.3380 Acc: 0.8758\n"
     ]
    },
    {
     "name": "stderr",
     "output_type": "stream",
     "text": [
      "VALID Epoch 6/10: 100%|██████████| 118/118 [00:53<00:00,  2.19it/s, accuracy=tensor(0.9243, device='cuda:0', dtype=torch.float64), loss=0.226]\n"
     ]
    },
    {
     "name": "stdout",
     "output_type": "stream",
     "text": [
      "VALID Loss: 0.2262 Acc: 0.9243\n",
      "\n",
      "Epoch 7/10\n"
     ]
    },
    {
     "name": "stderr",
     "output_type": "stream",
     "text": [
      "TRAIN Epoch 7/10: 100%|██████████| 547/547 [04:14<00:00,  2.15it/s, accuracy=tensor(0.8837, device='cuda:0', dtype=torch.float64), loss=0.317]\n"
     ]
    },
    {
     "name": "stdout",
     "output_type": "stream",
     "text": [
      "TRAIN Loss: 0.3171 Acc: 0.8837\n"
     ]
    },
    {
     "name": "stderr",
     "output_type": "stream",
     "text": [
      "VALID Epoch 7/10: 100%|██████████| 118/118 [00:54<00:00,  2.18it/s, accuracy=tensor(0.9229, device='cuda:0', dtype=torch.float64), loss=0.213]\n"
     ]
    },
    {
     "name": "stdout",
     "output_type": "stream",
     "text": [
      "VALID Loss: 0.2133 Acc: 0.9229\n",
      "\n",
      "Epoch 8/10\n"
     ]
    },
    {
     "name": "stderr",
     "output_type": "stream",
     "text": [
      "TRAIN Epoch 8/10: 100%|██████████| 547/547 [04:11<00:00,  2.18it/s, accuracy=tensor(0.8969, device='cuda:0', dtype=torch.float64), loss=0.288]\n"
     ]
    },
    {
     "name": "stdout",
     "output_type": "stream",
     "text": [
      "TRAIN Loss: 0.2880 Acc: 0.8969\n"
     ]
    },
    {
     "name": "stderr",
     "output_type": "stream",
     "text": [
      "VALID Epoch 8/10: 100%|██████████| 118/118 [00:52<00:00,  2.24it/s, accuracy=tensor(0.9400, device='cuda:0', dtype=torch.float64), loss=0.188]\n"
     ]
    },
    {
     "name": "stdout",
     "output_type": "stream",
     "text": [
      "VALID Loss: 0.1879 Acc: 0.9400\n",
      "\n",
      "Epoch 9/10\n"
     ]
    },
    {
     "name": "stderr",
     "output_type": "stream",
     "text": [
      "TRAIN Epoch 9/10: 100%|██████████| 547/547 [04:14<00:00,  2.15it/s, accuracy=tensor(0.9043, device='cuda:0', dtype=torch.float64), loss=0.27] \n"
     ]
    },
    {
     "name": "stdout",
     "output_type": "stream",
     "text": [
      "TRAIN Loss: 0.2700 Acc: 0.9043\n"
     ]
    },
    {
     "name": "stderr",
     "output_type": "stream",
     "text": [
      "VALID Epoch 9/10: 100%|██████████| 118/118 [00:53<00:00,  2.19it/s, accuracy=tensor(0.9400, device='cuda:0', dtype=torch.float64), loss=0.182]\n"
     ]
    },
    {
     "name": "stdout",
     "output_type": "stream",
     "text": [
      "VALID Loss: 0.1822 Acc: 0.9400\n",
      "\n",
      "Epoch 10/10\n"
     ]
    },
    {
     "name": "stderr",
     "output_type": "stream",
     "text": [
      "TRAIN Epoch 10/10: 100%|██████████| 547/547 [04:18<00:00,  2.11it/s, accuracy=tensor(0.9065, device='cuda:0', dtype=torch.float64), loss=0.265]\n"
     ]
    },
    {
     "name": "stdout",
     "output_type": "stream",
     "text": [
      "TRAIN Loss: 0.2654 Acc: 0.9065\n"
     ]
    },
    {
     "name": "stderr",
     "output_type": "stream",
     "text": [
      "VALID Epoch 10/10: 100%|██████████| 118/118 [00:56<00:00,  2.10it/s, accuracy=tensor(0.9472, device='cuda:0', dtype=torch.float64), loss=0.158]\n"
     ]
    },
    {
     "name": "stdout",
     "output_type": "stream",
     "text": [
      "VALID Loss: 0.1578 Acc: 0.9472\n"
     ]
    }
   ],
   "source": [
    "# Training function\n",
    "def train_model(model, dataloaders, criterion, optimizer, num_epochs=10):\n",
    "    for epoch in range(num_epochs):\n",
    "        print(f'\\nEpoch {epoch+1}/{num_epochs}')\n",
    "        for phase in ['train', 'valid']:\n",
    "            if phase == 'train':\n",
    "                model.train()\n",
    "            else:\n",
    "                model.eval()\n",
    "            \n",
    "            running_loss = 0.0\n",
    "            correct = 0\n",
    "            total = 0\n",
    "            \n",
    "            loop = tqdm(dataloaders[phase], desc=f'{phase.upper()} Epoch {epoch+1}/{num_epochs}', leave=True)\n",
    "            for inputs, labels in loop:\n",
    "                inputs, labels = inputs.to(device), labels.to(device)\n",
    "                optimizer.zero_grad()\n",
    "                \n",
    "                with torch.set_grad_enabled(phase == 'train'):\n",
    "                    outputs = model(inputs)\n",
    "                    loss = criterion(outputs, labels)\n",
    "                    _, preds = torch.max(outputs, 1)\n",
    "                    if phase == 'train':\n",
    "                        loss.backward()\n",
    "                        optimizer.step()\n",
    "                \n",
    "                running_loss += loss.item() * inputs.size(0)\n",
    "                correct += torch.sum(preds == labels.data)\n",
    "                total += labels.size(0)\n",
    "                \n",
    "                loop.set_postfix(loss=running_loss/total, accuracy=correct.double()/total)\n",
    "            \n",
    "            epoch_loss = running_loss / total\n",
    "            epoch_acc = correct.double() / total\n",
    "            print(f'{phase.upper()} Loss: {epoch_loss:.4f} Acc: {epoch_acc:.4f}')\n",
    "\n",
    "train_model(model, dataloaders, criterion, optimizer)\n",
    "\n",
    "# Save model\n",
    "torch.save(model.state_dict(), \"cervical_cancer_model_Efficient_NetV2.pth\")"
   ]
  },
  {
   "cell_type": "code",
   "execution_count": 8,
   "metadata": {},
   "outputs": [],
   "source": [
    "# Define model\n",
    "class CervicalCancerModel(nn.Module):\n",
    "    def __init__(self):\n",
    "        super(CervicalCancerModel, self).__init__()\n",
    "        self.base_model = models.densenet201(pretrained=True)\n",
    "        # Freeze the base model parameters\n",
    "        for param in self.base_model.parameters():\n",
    "            param.requires_grad = False\n",
    "        # Get the number of input features from the classifier's linear layer\n",
    "        num_features = self.base_model.classifier.in_features  # Fixed line\n",
    "        # Replace the classifier with a custom sequential module\n",
    "        self.base_model.classifier = nn.Sequential(\n",
    "            nn.Linear(num_features, 256),\n",
    "            nn.ReLU(),\n",
    "            nn.Dropout(0.3),\n",
    "            nn.Linear(256, len(cervix_categories))\n",
    "        )\n",
    "    \n",
    "    def forward(self, x):\n",
    "        return self.base_model(x)\n",
    "\n",
    "# Initialize model, loss, optimizer\n",
    "device = torch.device(\"cuda\" if torch.cuda.is_available() else \"cpu\")\n",
    "model = CervicalCancerModel().to(device)\n",
    "criterion = nn.CrossEntropyLoss()\n",
    "optimizer = optim.Adamax(model.parameters(), lr=0.001)"
   ]
  },
  {
   "cell_type": "code",
   "execution_count": 9,
   "metadata": {},
   "outputs": [
    {
     "name": "stdout",
     "output_type": "stream",
     "text": [
      "\n",
      "Epoch 1/10\n"
     ]
    },
    {
     "name": "stderr",
     "output_type": "stream",
     "text": [
      "TRAIN Epoch 1/10: 100%|██████████| 547/547 [04:12<00:00,  2.17it/s, accuracy=tensor(0.8833, device='cuda:0', dtype=torch.float64), loss=0.36] \n"
     ]
    },
    {
     "name": "stdout",
     "output_type": "stream",
     "text": [
      "TRAIN Loss: 0.3601 Acc: 0.8833\n"
     ]
    },
    {
     "name": "stderr",
     "output_type": "stream",
     "text": [
      "VALID Epoch 1/10: 100%|██████████| 118/118 [00:52<00:00,  2.23it/s, accuracy=tensor(0.9661, device='cuda:0', dtype=torch.float64), loss=0.129]\n"
     ]
    },
    {
     "name": "stdout",
     "output_type": "stream",
     "text": [
      "VALID Loss: 0.1292 Acc: 0.9661\n",
      "\n",
      "Epoch 2/10\n"
     ]
    },
    {
     "name": "stderr",
     "output_type": "stream",
     "text": [
      "TRAIN Epoch 2/10: 100%|██████████| 547/547 [03:59<00:00,  2.29it/s, accuracy=tensor(0.9533, device='cuda:0', dtype=torch.float64), loss=0.145]\n"
     ]
    },
    {
     "name": "stdout",
     "output_type": "stream",
     "text": [
      "TRAIN Loss: 0.1453 Acc: 0.9533\n"
     ]
    },
    {
     "name": "stderr",
     "output_type": "stream",
     "text": [
      "VALID Epoch 2/10: 100%|██████████| 118/118 [00:48<00:00,  2.45it/s, accuracy=tensor(0.9725, device='cuda:0', dtype=torch.float64), loss=0.092] \n"
     ]
    },
    {
     "name": "stdout",
     "output_type": "stream",
     "text": [
      "VALID Loss: 0.0920 Acc: 0.9725\n",
      "\n",
      "Epoch 3/10\n"
     ]
    },
    {
     "name": "stderr",
     "output_type": "stream",
     "text": [
      "TRAIN Epoch 3/10: 100%|██████████| 547/547 [03:52<00:00,  2.36it/s, accuracy=tensor(0.9677, device='cuda:0', dtype=torch.float64), loss=0.0981]\n"
     ]
    },
    {
     "name": "stdout",
     "output_type": "stream",
     "text": [
      "TRAIN Loss: 0.0981 Acc: 0.9677\n"
     ]
    },
    {
     "name": "stderr",
     "output_type": "stream",
     "text": [
      "VALID Epoch 3/10: 100%|██████████| 118/118 [00:52<00:00,  2.25it/s, accuracy=tensor(0.9896, device='cuda:0', dtype=torch.float64), loss=0.047] \n"
     ]
    },
    {
     "name": "stdout",
     "output_type": "stream",
     "text": [
      "VALID Loss: 0.0470 Acc: 0.9896\n",
      "\n",
      "Epoch 4/10\n"
     ]
    },
    {
     "name": "stderr",
     "output_type": "stream",
     "text": [
      "TRAIN Epoch 4/10: 100%|██████████| 547/547 [04:01<00:00,  2.27it/s, accuracy=tensor(0.9739, device='cuda:0', dtype=torch.float64), loss=0.0782]\n"
     ]
    },
    {
     "name": "stdout",
     "output_type": "stream",
     "text": [
      "TRAIN Loss: 0.0782 Acc: 0.9739\n"
     ]
    },
    {
     "name": "stderr",
     "output_type": "stream",
     "text": [
      "VALID Epoch 4/10: 100%|██████████| 118/118 [00:51<00:00,  2.30it/s, accuracy=tensor(0.9917, device='cuda:0', dtype=torch.float64), loss=0.0323]\n"
     ]
    },
    {
     "name": "stdout",
     "output_type": "stream",
     "text": [
      "VALID Loss: 0.0323 Acc: 0.9917\n",
      "\n",
      "Epoch 5/10\n"
     ]
    },
    {
     "name": "stderr",
     "output_type": "stream",
     "text": [
      "TRAIN Epoch 5/10: 100%|██████████| 547/547 [03:55<00:00,  2.32it/s, accuracy=tensor(0.9792, device='cuda:0', dtype=torch.float64), loss=0.0662]\n"
     ]
    },
    {
     "name": "stdout",
     "output_type": "stream",
     "text": [
      "TRAIN Loss: 0.0662 Acc: 0.9792\n"
     ]
    },
    {
     "name": "stderr",
     "output_type": "stream",
     "text": [
      "VALID Epoch 5/10: 100%|██████████| 118/118 [00:48<00:00,  2.46it/s, accuracy=tensor(0.9912, device='cuda:0', dtype=torch.float64), loss=0.0295]\n"
     ]
    },
    {
     "name": "stdout",
     "output_type": "stream",
     "text": [
      "VALID Loss: 0.0295 Acc: 0.9912\n",
      "\n",
      "Epoch 6/10\n"
     ]
    },
    {
     "name": "stderr",
     "output_type": "stream",
     "text": [
      "TRAIN Epoch 6/10: 100%|██████████| 547/547 [04:04<00:00,  2.24it/s, accuracy=tensor(0.9826, device='cuda:0', dtype=torch.float64), loss=0.0538]\n"
     ]
    },
    {
     "name": "stdout",
     "output_type": "stream",
     "text": [
      "TRAIN Loss: 0.0538 Acc: 0.9826\n"
     ]
    },
    {
     "name": "stderr",
     "output_type": "stream",
     "text": [
      "VALID Epoch 6/10: 100%|██████████| 118/118 [00:51<00:00,  2.29it/s, accuracy=tensor(0.9947, device='cuda:0', dtype=torch.float64), loss=0.0213]\n"
     ]
    },
    {
     "name": "stdout",
     "output_type": "stream",
     "text": [
      "VALID Loss: 0.0213 Acc: 0.9947\n",
      "\n",
      "Epoch 7/10\n"
     ]
    },
    {
     "name": "stderr",
     "output_type": "stream",
     "text": [
      "TRAIN Epoch 7/10: 100%|██████████| 547/547 [03:57<00:00,  2.30it/s, accuracy=tensor(0.9858, device='cuda:0', dtype=torch.float64), loss=0.0468]\n"
     ]
    },
    {
     "name": "stdout",
     "output_type": "stream",
     "text": [
      "TRAIN Loss: 0.0468 Acc: 0.9858\n"
     ]
    },
    {
     "name": "stderr",
     "output_type": "stream",
     "text": [
      "VALID Epoch 7/10: 100%|██████████| 118/118 [00:49<00:00,  2.39it/s, accuracy=tensor(0.9952, device='cuda:0', dtype=torch.float64), loss=0.0184]\n"
     ]
    },
    {
     "name": "stdout",
     "output_type": "stream",
     "text": [
      "VALID Loss: 0.0184 Acc: 0.9952\n",
      "\n",
      "Epoch 8/10\n"
     ]
    },
    {
     "name": "stderr",
     "output_type": "stream",
     "text": [
      "TRAIN Epoch 8/10: 100%|██████████| 547/547 [04:02<00:00,  2.25it/s, accuracy=tensor(0.9874, device='cuda:0', dtype=torch.float64), loss=0.0409]\n"
     ]
    },
    {
     "name": "stdout",
     "output_type": "stream",
     "text": [
      "TRAIN Loss: 0.0409 Acc: 0.9874\n"
     ]
    },
    {
     "name": "stderr",
     "output_type": "stream",
     "text": [
      "VALID Epoch 8/10: 100%|██████████| 118/118 [00:53<00:00,  2.22it/s, accuracy=tensor(0.9960, device='cuda:0', dtype=torch.float64), loss=0.0164]\n"
     ]
    },
    {
     "name": "stdout",
     "output_type": "stream",
     "text": [
      "VALID Loss: 0.0164 Acc: 0.9960\n",
      "\n",
      "Epoch 9/10\n"
     ]
    },
    {
     "name": "stderr",
     "output_type": "stream",
     "text": [
      "TRAIN Epoch 9/10: 100%|██████████| 547/547 [04:08<00:00,  2.20it/s, accuracy=tensor(0.9882, device='cuda:0', dtype=torch.float64), loss=0.0386]\n"
     ]
    },
    {
     "name": "stdout",
     "output_type": "stream",
     "text": [
      "TRAIN Loss: 0.0386 Acc: 0.9882\n"
     ]
    },
    {
     "name": "stderr",
     "output_type": "stream",
     "text": [
      "VALID Epoch 9/10: 100%|██████████| 118/118 [00:50<00:00,  2.34it/s, accuracy=tensor(0.9949, device='cuda:0', dtype=torch.float64), loss=0.0161]\n"
     ]
    },
    {
     "name": "stdout",
     "output_type": "stream",
     "text": [
      "VALID Loss: 0.0161 Acc: 0.9949\n",
      "\n",
      "Epoch 10/10\n"
     ]
    },
    {
     "name": "stderr",
     "output_type": "stream",
     "text": [
      "TRAIN Epoch 10/10: 100%|██████████| 547/547 [03:49<00:00,  2.38it/s, accuracy=tensor(0.9898, device='cuda:0', dtype=torch.float64), loss=0.033] \n"
     ]
    },
    {
     "name": "stdout",
     "output_type": "stream",
     "text": [
      "TRAIN Loss: 0.0330 Acc: 0.9898\n"
     ]
    },
    {
     "name": "stderr",
     "output_type": "stream",
     "text": [
      "VALID Epoch 10/10: 100%|██████████| 118/118 [00:48<00:00,  2.41it/s, accuracy=tensor(0.9976, device='cuda:0', dtype=torch.float64), loss=0.0118]\n"
     ]
    },
    {
     "name": "stdout",
     "output_type": "stream",
     "text": [
      "VALID Loss: 0.0118 Acc: 0.9976\n"
     ]
    }
   ],
   "source": [
    "# Training function\n",
    "def train_model(model, dataloaders, criterion, optimizer, num_epochs=10):\n",
    "    for epoch in range(num_epochs):\n",
    "        print(f'\\nEpoch {epoch+1}/{num_epochs}')\n",
    "        for phase in ['train', 'valid']:\n",
    "            if phase == 'train':\n",
    "                model.train()\n",
    "            else:\n",
    "                model.eval()\n",
    "            \n",
    "            running_loss = 0.0\n",
    "            correct = 0\n",
    "            total = 0\n",
    "            \n",
    "            loop = tqdm(dataloaders[phase], desc=f'{phase.upper()} Epoch {epoch+1}/{num_epochs}', leave=True)\n",
    "            for inputs, labels in loop:\n",
    "                inputs, labels = inputs.to(device), labels.to(device)\n",
    "                optimizer.zero_grad()\n",
    "                \n",
    "                with torch.set_grad_enabled(phase == 'train'):\n",
    "                    outputs = model(inputs)\n",
    "                    loss = criterion(outputs, labels)\n",
    "                    _, preds = torch.max(outputs, 1)\n",
    "                    if phase == 'train':\n",
    "                        loss.backward()\n",
    "                        optimizer.step()\n",
    "                \n",
    "                running_loss += loss.item() * inputs.size(0)\n",
    "                correct += torch.sum(preds == labels.data)\n",
    "                total += labels.size(0)\n",
    "                \n",
    "                loop.set_postfix(loss=running_loss/total, accuracy=correct.double()/total)\n",
    "            \n",
    "            epoch_loss = running_loss / total\n",
    "            epoch_acc = correct.double() / total\n",
    "            print(f'{phase.upper()} Loss: {epoch_loss:.4f} Acc: {epoch_acc:.4f}')\n",
    "\n",
    "train_model(model, dataloaders, criterion, optimizer)\n",
    "\n",
    "# Save model\n",
    "torch.save(model.state_dict(), \"cervical_cancer_model_Densnet201.pth\")"
   ]
  }
 ],
 "metadata": {
  "kernelspec": {
   "display_name": "py310",
   "language": "python",
   "name": "python3"
  },
  "language_info": {
   "codemirror_mode": {
    "name": "ipython",
    "version": 3
   },
   "file_extension": ".py",
   "mimetype": "text/x-python",
   "name": "python",
   "nbconvert_exporter": "python",
   "pygments_lexer": "ipython3",
   "version": "3.10.16"
  }
 },
 "nbformat": 4,
 "nbformat_minor": 2
}
